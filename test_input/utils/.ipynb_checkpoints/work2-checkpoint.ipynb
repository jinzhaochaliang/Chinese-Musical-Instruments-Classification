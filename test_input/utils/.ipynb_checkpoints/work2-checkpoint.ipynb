{
 "cells": [
  {
   "cell_type": "code",
   "execution_count": 2,
   "metadata": {},
   "outputs": [],
   "source": [
    "import os\n",
    "import sys\n",
    "import numpy\n",
    "import argparse\n",
    "import sys\n",
    "import soundfile\n",
    "import numpy as np\n",
    "import librosa\n",
    "import h5py\n",
    "import time\n",
    "import pandas as pd\n",
    "from scipy import signal\n",
    "import matplotlib.pyplot as plt\n",
    "import logging\n",
    "\n",
    "import config\n",
    "from utilities import calculate_scalar, create_folder, read_audio"
   ]
  },
  {
   "cell_type": "code",
   "execution_count": 3,
   "metadata": {},
   "outputs": [],
   "source": [
    "dataset_dir = \"E:\\\\毕设\\\\dcase2018_task2\\\\freesound-audio-tagging\"\n",
    "workspace = \"E:\\\\毕设\\\\dcase2018_task2\\\\work\""
   ]
  },
  {
   "cell_type": "code",
   "execution_count": 4,
   "metadata": {},
   "outputs": [],
   "source": [
    "class LogMelExtractor():\n",
    "    def __init__(self, sample_rate, window_size, overlap, mel_bins):\n",
    "        \n",
    "        self.window_size = window_size\n",
    "        self.overlap = overlap\n",
    "        self.ham_win = np.hamming(window_size)\n",
    "        \n",
    "        self.melW = librosa.filters.mel(sr=sample_rate, \n",
    "                                        n_fft=window_size, \n",
    "                                        n_mels=mel_bins, \n",
    "                                        fmin=50., \n",
    "                                        fmax=sample_rate // 2).T\n",
    "    \n",
    "    def transform(self, audio):\n",
    "    \n",
    "        ham_win = self.ham_win\n",
    "        window_size = self.window_size\n",
    "        overlap = self.overlap\n",
    "    \n",
    "        [f, t, x] = signal.spectral.spectrogram(\n",
    "                        audio, \n",
    "                        window=ham_win,\n",
    "                        nperseg=window_size, \n",
    "                        noverlap=overlap, \n",
    "                        detrend=False, \n",
    "                        return_onesided=True, \n",
    "                        mode='magnitude') \n",
    "        x = x.T\n",
    "            \n",
    "        x = np.dot(x, self.melW)\n",
    "        x = np.log(x + 1e-8)\n",
    "        x = x.astype(np.float32)\n",
    "        \n",
    "        return x"
   ]
  },
  {
   "cell_type": "code",
   "execution_count": null,
   "metadata": {},
   "outputs": [],
   "source": [
    "\"\"\"Write features and infos of audios to a hdf5 file.\n",
    "    \"\"\"\n",
    "\n",
    "data_type = \"development\"\n",
    "mini_data = \"False\"\n",
    "\n",
    "sample_rate = config.sample_rate\n",
    "window_size = config.window_size\n",
    "overlap = config.overlap\n",
    "mel_bins = config.mel_bins\n",
    "\n",
    "corrupted_files = config.corrupted_files"
   ]
  }
 ],
 "metadata": {
  "kernelspec": {
   "display_name": "Python 3",
   "language": "python",
   "name": "python3"
  },
  "language_info": {
   "codemirror_mode": {
    "name": "ipython",
    "version": 3
   },
   "file_extension": ".py",
   "mimetype": "text/x-python",
   "name": "python",
   "nbconvert_exporter": "python",
   "pygments_lexer": "ipython3",
   "version": "3.6.8"
  }
 },
 "nbformat": 4,
 "nbformat_minor": 2
}
